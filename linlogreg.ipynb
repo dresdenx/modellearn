{
 "cells": [
  {
   "cell_type": "code",
   "execution_count": null,
   "id": "71517c9d",
   "metadata": {},
   "outputs": [],
   "source": [
    "# from sklearn.linear_model import LinearRegression\n",
    "# import gradio as gr\n",
    "# from joblib import dump, load\n",
    "\n",
    "# model1 = load('123.joblib')\n",
    "# model2 = load('1234.joblib') \n",
    "\n",
    "# def grad(x_pred,is_logistic_input_6_numbers_with_spaces):\n",
    "#     if is_logistic_input_6_numbers_with_spaces:\n",
    "#         y_pred = model2.predict([x_pred])\n",
    "#     else:\n",
    "#         y_pred = model1.predict([[np.array(x_pred[0].split()).reshape(2, 3).astype(int)]])\n",
    "#     return y_pred[0]\n",
    "\n",
    "\n",
    "# def demo1(is_log):\n",
    "#     if is_log: \n",
    "#     demo = gr.Interface(fn=grad, \n",
    "#                     inputs=[], \n",
    "#                     outputs=\"number\")\n",
    "#     return demo.launch()\n",
    "\n",
    "# def demo1(is_log2):\n",
    "#     if is_log2: \n",
    "#     demo = gr.Interface(fn=grad, \n",
    "#                     inputs=[], \n",
    "#                     outputs=\"number\")\n",
    "#     return demo.launch()\n",
    "\n",
    "\n",
    "# demo.launch()"
   ]
  },
  {
   "cell_type": "code",
   "execution_count": 37,
   "id": "b8b52515",
   "metadata": {},
   "outputs": [
    {
     "data": {
      "text/plain": [
       "['123.joblib']"
      ]
     },
     "execution_count": 37,
     "metadata": {},
     "output_type": "execute_result"
    }
   ],
   "source": [
    "from sklearn.linear_model import LinearRegression\n",
    "import gradio as gr\n",
    "from joblib import dump, load\n",
    "\n",
    "X = [[1.0], [2.0], [3.0]]\n",
    "y = [11.0, 12.0, 13.0]\n",
    "\n",
    "\n",
    "model = LinearRegression()\n",
    "model.fit(X, y)\n",
    "\n",
    "dump(model, '123.joblib') \n"
   ]
  },
  {
   "cell_type": "code",
   "execution_count": 8,
   "id": "e76533b4",
   "metadata": {},
   "outputs": [
    {
     "data": {
      "text/plain": [
       "['1234.joblib']"
      ]
     },
     "execution_count": 8,
     "metadata": {},
     "output_type": "execute_result"
    }
   ],
   "source": [
    "from sklearn.datasets import load_iris\n",
    "from sklearn.linear_model import LogisticRegression\n",
    "import numpy as np\n",
    "from joblib import dump, load\n",
    "\n",
    "X, y = load_iris(return_X_y=True)\n",
    "clf = LogisticRegression(random_state=0,max_iter=200).fit(X, y)\n",
    "dump(clf, '1234.joblib')\n",
    "\n",
    "\n",
    "# arr = \"1 2 3 4 5 6 7 8\"\n",
    "# matrix = np.array(arr.split()).reshape(2, 4).astype(int)\n",
    "# clf.predict(matrix)\n",
    "\n"
   ]
  },
  {
   "cell_type": "code",
   "execution_count": 10,
   "id": "e8226b0a",
   "metadata": {},
   "outputs": [
    {
     "name": "stdout",
     "output_type": "stream",
     "text": [
      "Running on local URL:  http://127.0.0.1:7860\n",
      "\n",
      "To create a public link, set `share=True` in `launch()`.\n"
     ]
    },
    {
     "data": {
      "text/html": [
       "<div><iframe src=\"http://127.0.0.1:7860/\" width=\"100%\" height=\"500\" allow=\"autoplay; camera; microphone; clipboard-read; clipboard-write;\" frameborder=\"0\" allowfullscreen></iframe></div>"
      ],
      "text/plain": [
       "<IPython.core.display.HTML object>"
      ]
     },
     "metadata": {},
     "output_type": "display_data"
    },
    {
     "data": {
      "text/plain": []
     },
     "execution_count": 10,
     "metadata": {},
     "output_type": "execute_result"
    }
   ],
   "source": [
    "from sklearn.datasets import load_iris\n",
    "from sklearn.linear_model import LogisticRegression\n",
    "import numpy as np\n",
    "from joblib import dump, load\n",
    "\n",
    "clf = load('1234.joblib') \n",
    "\n",
    "def grad(x_pred):\n",
    "    matrix = np.array(x_pred.split()).reshape(2, 4).astype(int)\n",
    "    y_pred = clf.predict(matrix)\n",
    "    return str(y_pred)\n",
    "\n",
    "demo = gr.Interface(fn=grad, inputs=\"text\", outputs=\"text\")\n",
    "demo.launch()"
   ]
  },
  {
   "cell_type": "code",
   "execution_count": 93,
   "id": "f58b4eba",
   "metadata": {},
   "outputs": [
    {
     "name": "stdout",
     "output_type": "stream",
     "text": [
      "Running on local URL:  http://127.0.0.1:7880\n",
      "\n",
      "To create a public link, set `share=True` in `launch()`.\n"
     ]
    },
    {
     "data": {
      "text/html": [
       "<div><iframe src=\"http://127.0.0.1:7880/\" width=\"100%\" height=\"500\" allow=\"autoplay; camera; microphone; clipboard-read; clipboard-write;\" frameborder=\"0\" allowfullscreen></iframe></div>"
      ],
      "text/plain": [
       "<IPython.core.display.HTML object>"
      ]
     },
     "metadata": {},
     "output_type": "display_data"
    },
    {
     "data": {
      "text/plain": []
     },
     "execution_count": 93,
     "metadata": {},
     "output_type": "execute_result"
    }
   ],
   "source": [
    "from sklearn.linear_model import LinearRegression\n",
    "import gradio as gr\n",
    "from joblib import dump, load\n",
    "\n",
    "model = load('123.joblib') \n",
    "\n",
    "def grad(x_pred):\n",
    "    x_pred = int(x_pred)\n",
    "    y_pred = model.predict([[x_pred]])\n",
    "    return y_pred[0]\n",
    "\n",
    "demo = gr.Interface(fn=grad, inputs=\"text\", outputs=\"number\")\n",
    "demo.launch()"
   ]
  },
  {
   "cell_type": "code",
   "execution_count": null,
   "id": "4d40c4fe",
   "metadata": {},
   "outputs": [],
   "source": []
  }
 ],
 "metadata": {
  "kernelspec": {
   "display_name": "Python 3 (ipykernel)",
   "language": "python",
   "name": "python3"
  },
  "language_info": {
   "codemirror_mode": {
    "name": "ipython",
    "version": 3
   },
   "file_extension": ".py",
   "mimetype": "text/x-python",
   "name": "python",
   "nbconvert_exporter": "python",
   "pygments_lexer": "ipython3",
   "version": "3.11.4"
  }
 },
 "nbformat": 4,
 "nbformat_minor": 5
}
